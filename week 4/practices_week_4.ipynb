{
 "cells": [
  {
   "cell_type": "code",
   "execution_count": 3,
   "id": "b740e2ed-f01a-4816-8739-18fbce64cd05",
   "metadata": {},
   "outputs": [
    {
     "name": "stdin",
     "output_type": "stream",
     "text": [
      "Enter name of city 1 : enugu\n",
      "Enter name of city 2: abia\n"
     ]
    },
    {
     "name": "stdout",
     "output_type": "stream",
     "text": [
      "The name of city 1 after swapping is abia\n",
      "The name of city 2 after swapping is enugu\n"
     ]
    }
   ],
   "source": [
    "#python program to swap two cities\n",
    "\n",
    "#To take inputs from the user\n",
    "city_1 = input(\"Enter name of city 1 :\")\n",
    "city_2 = input (\"Enter name of city 2:\")\n",
    "\n",
    "# create a temporary variable and swap the cities\n",
    "temp = city_1\n",
    "city_1 = city_2\n",
    "city_2 = temp\n",
    "\n",
    "\n",
    "print(f\"The name of city 1 after swapping is {city_1}\")\n",
    "print(f\"The name of city 2 after swapping is {city_2}\")\n",
    "\n"
   ]
  },
  {
   "cell_type": "code",
   "execution_count": 11,
   "id": "3f99c52e-17a6-4a8a-8d72-e1fca02d625e",
   "metadata": {},
   "outputs": [
    {
     "name": "stdin",
     "output_type": "stream",
     "text": [
      "Enter a number:  0\n"
     ]
    },
    {
     "name": "stdout",
     "output_type": "stream",
     "text": [
      "Zero\n"
     ]
    }
   ],
   "source": [
    "# program to check if a number is positive , negative or 0\n",
    "\n",
    "num = float(input(\"Enter a number: \"))\n",
    "if num > 0:\n",
    "    print(\"Positive number\")\n",
    "\n",
    "elif num == 0:\n",
    "    print(\"Zero\")\n",
    "\n",
    "else :\n",
    "    print(\"Negative number\")\n",
    "    "
   ]
  },
  {
   "cell_type": "code",
   "execution_count": 3,
   "id": "928237a3-bca6-4b6d-9a89-01e076d42dc0",
   "metadata": {},
   "outputs": [
    {
     "ename": "SyntaxError",
     "evalue": "unterminated string literal (detected at line 7) (1808840292.py, line 7)",
     "output_type": "error",
     "traceback": [
      "\u001b[0;36m  Cell \u001b[0;32mIn[3], line 7\u001b[0;36m\u001b[0m\n\u001b[0;31m    goalkeepers = {\"Madiba: \" : \"chubby obiora-okafor\",\"cirok:\": \"Timileyin pearse/izuako jeremy\",'TSG WALKER:':\"AYOMIDE OJITUKU\",\"cirok:\" : 'timiyelin pearse / izuako jeremy\"}\u001b[0m\n\u001b[0m                                                                                                                                             ^\u001b[0m\n\u001b[0;31mSyntaxError\u001b[0m\u001b[0;31m:\u001b[0m unterminated string literal (detected at line 7)\n"
     ]
    }
   ],
   "source": [
    "# COUPE DE ESCRIVA \")\"£ : FOOTBALL PICKS\n",
    "\n",
    "print(\"welcome to the COUPE DE ESCRIVA 2023: FOOTBALL PICKS \\n\")\n",
    "\n",
    "captain = {\"Madiba\" : \"CHUBBY OBIORA-OKAFOR\",\"BLUE JAYS\": \"CHRISTOPHER UWEH\", \"CIROK\":\"ALEXANDER\", \"TSG WALKERS:\" : \"IKECHUKWU\"}\n",
    "\n",
    "goalkeepers = {\"Madiba: \" : \"chubby obiora-okafor\",\"cirok:\": \"Timileyin pearse/izuako jeremy\",\"TSG WALKER:\":\"AYOMIDE OJITUKU\",\"cirok:\" : \"timiyelin pearse / izuako jeremy\"}\n",
    "\n",
    "for pick in  captain:\n",
    "    print (pick,captain[pick])\n",
    "\n",
    "print(\"\\n\")\n",
    "\n",
    "for pick in goalkeepers:\n",
    "    print(pick,goalkeepers[pick])\n",
    "               \n",
    "\n",
    "               "
   ]
  },
  {
   "cell_type": "code",
   "execution_count": null,
   "id": "2c5a062c-c440-4012-92c4-4f8ae9057e17",
   "metadata": {},
   "outputs": [],
   "source": []
  }
 ],
 "metadata": {
  "kernelspec": {
   "display_name": "anaconda-panel-2023.05-py310",
   "language": "python",
   "name": "conda-env-anaconda-panel-2023.05-py310-py"
  },
  "language_info": {
   "codemirror_mode": {
    "name": "ipython",
    "version": 3
   },
   "file_extension": ".py",
   "mimetype": "text/x-python",
   "name": "python",
   "nbconvert_exporter": "python",
   "pygments_lexer": "ipython3",
   "version": "3.11.5"
  }
 },
 "nbformat": 4,
 "nbformat_minor": 5
}
