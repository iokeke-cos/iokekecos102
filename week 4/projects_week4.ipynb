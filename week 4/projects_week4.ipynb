{
 "cells": [
  {
   "cell_type": "code",
   "execution_count": 47,
   "id": "05a30343-9ed8-4929-8b4f-dcd2e829838a",
   "metadata": {},
   "outputs": [
    {
     "name": "stdout",
     "output_type": "stream",
     "text": [
      "Girls'Names      Girls'Ages  Girls'Heights      Girls'Scores  Boys'Names      Boys'Ages  Boys'Heights      Boys'Scores\n",
      "-------------  ------------  ---------------  --------------  ------------  -----------  --------------  -------------\n",
      "Evelyn                   17  5'5                          83  Chinedu                19  5'7                        74\n",
      "Jessica                  16  6'0                          85  Liam                   16  5'9                        87\n",
      "Somto                    17  5'4                          70  Wale                   18  5'8                        76\n",
      "Edith                    18  5'9                          60  Gbenge                 17  6'7                        68\n",
      "Liza                     16  5'6                          76  Abiola                 20  5'9                        75\n",
      "Madonna                  18  5'5                          66  Kole                   19  5'5                        78\n",
      "Waje                     17  6'1                          87  Kunle                  16  6'1                        87\n",
      "Tola                     20  6'0                          95  George                 18  5'4                        98\n",
      "Aisha                    19  5'7                          50  Thomas                 17  5'8                        54\n",
      "Latifa                   17  5'5                          49  Wesley                 19  5'7                        60\n"
     ]
    }
   ],
   "source": [
    "#python program for project 1\n",
    "# import module\n",
    "from tabulate import tabulate\n",
    "\n",
    "#assignment of data\n",
    "\n",
    "Table_Data = [\n",
    "    [\"Evelyn\",\"17\",\"5'5\",\"83\",\"Chinedu\",\"19\",\"5'7\",\"74\"],\n",
    "    [\"Jessica\",\"16\",\"6'0\",\"85\",\"Liam\",\"16\",\"5'9\",\"87\"],\n",
    "    [\"Somto\",\"17\",\"5'4\",\"70\",\"Wale\",\"18\",\"5'8\",\"76\"],\n",
    "    [\"Edith\",\"18\",\"5'9\",\"60\",\"Gbenge\",\"17\",\"6'7\",\"68\"],\n",
    "    [\"Liza\",\"16\",\"5'6\",\"76\",\"Abiola\",\"20\",\"5'9\",\"75\"],\n",
    "    [\"Madonna\",\"18\",\"5'5\",\"66\",\"Kole\",\"19\",\"5'5\",\"78\"],\n",
    "    [\"Waje\",\"17\",\"6'1\",\"87\",\"Kunle\",\"16\",\"6'1\",\"87\"],\n",
    "    [\"Tola\",\"20\",\"6'0\",\"95\",\"George\",\"18\",\"5'4\",\"98\"],\n",
    "    [\"Aisha\",\"19\",\"5'7\",\"50\",\"Thomas\",\"17\",\"5'8\",\"54\"],\n",
    "    [\"Latifa \",\"17\",\"5'5\",\"49\",\"Wesley\",\"19\",\"5'7\",\"60\"]\n",
    "]\n",
    "\n",
    "#Create headers\n",
    "headings =[\"Girls'Names\",\"Girls'Ages\",\"Girls'Heights\",\"Girls'Scores\",\"Boys'Names\",\"Boys'Ages\",\"Boys'Heights\",\"Boys'Scores\"]\n",
    "\n",
    "#Display Table\n",
    "\n",
    "print(tabulate(Table_Data,headers=headings,tablefmt = 'prettytable'))\n"
   ]
  },
  {
   "cell_type": "code",
   "execution_count": 46,
   "id": "acb36d11-4c01-4fba-83c8-73644651c2ac",
   "metadata": {},
   "outputs": [
    {
     "name": "stdin",
     "output_type": "stream",
     "text": [
      "Name:  okeke\n",
      "Staff Department:  cooking\n",
      "Years of Experience:  50\n",
      "Age:  100\n"
     ]
    },
    {
     "name": "stdout",
     "output_type": "stream",
     "text": [
      "Your Annual Tax Revenue(ATR) is N5,600,000.00\n"
     ]
    }
   ],
   "source": [
    "#python program for project 2\n",
    "name = input (\"Name: \")\n",
    "staff_dept = input(\"Staff Department: \")\n",
    "experience = input(\"Years of Experience: \")\n",
    "age = input(\"Age: \")\n",
    "\n",
    "e = int(experience)\n",
    "a = int(age)\n",
    "\n",
    "if a >= 55  & e > 25 :\n",
    "    print(\"Your Annual Tax Revenue(ATR) is N5,600,000.00\")\n",
    "\n",
    "if e > 20 & a >= 45:\n",
    "    print(\"Your Annual Tax Revenue(ATR) is N4,480,000.00\")\n",
    "\n",
    "if e > 10 & a >= 35:\n",
    "    print(\"Your Annual Tax Revenue(ATR) is N1,500,000.00\")\n",
    "\n",
    "if e < 10 & a < 35:\n",
    "    print(\"Your Annual Tax Revenue(ATR) is N550,000.00\")\n",
    "\n"
   ]
  },
  {
   "cell_type": "code",
   "execution_count": null,
   "id": "d20467c3-529d-493c-b80b-9f2943b5faed",
   "metadata": {},
   "outputs": [],
   "source": []
  }
 ],
 "metadata": {
  "kernelspec": {
   "display_name": "anaconda-panel-2023.05-py310",
   "language": "python",
   "name": "conda-env-anaconda-panel-2023.05-py310-py"
  },
  "language_info": {
   "codemirror_mode": {
    "name": "ipython",
    "version": 3
   },
   "file_extension": ".py",
   "mimetype": "text/x-python",
   "name": "python",
   "nbconvert_exporter": "python",
   "pygments_lexer": "ipython3",
   "version": "3.11.5"
  }
 },
 "nbformat": 4,
 "nbformat_minor": 5
}
