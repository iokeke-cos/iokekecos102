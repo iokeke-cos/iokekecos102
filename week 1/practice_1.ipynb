{
 "cells": [
  {
   "cell_type": "code",
   "execution_count": 2,
   "id": "d4b24e77-59a9-4467-9e41-5a04f5f6d278",
   "metadata": {},
   "outputs": [
    {
     "name": "stdout",
     "output_type": "stream",
     "text": [
      "100\n",
      "Data Type of variable num is  <class 'int'>\n",
      "34.45\n",
      "Data Type of variable fnum is <class 'float'>\n",
      "(3+4j)\n",
      "Data Type of variable cnum is <class 'complex'>\n"
     ]
    }
   ],
   "source": [
    "# integer number\n",
    "num = 100\n",
    "print(num)\n",
    "print(\"Data Type of variable num is \", type(num))\n",
    "\n",
    "# float number\n",
    "fnum = 34.45\n",
    "print(fnum)\n",
    "print(\"Data Type of variable fnum is\", type(fnum))\n",
    "\n",
    "# complex number\n",
    "cnum = 3 + 4j\n",
    "print(cnum)\n",
    "print(\"Data Type of variable cnum is\", type (cnum))\n"
   ]
  },
  {
   "cell_type": "code",
   "execution_count": null,
   "id": "ac3400c8-96f7-483f-8313-322d2a908790",
   "metadata": {},
   "outputs": [],
   "source": []
  }
 ],
 "metadata": {
  "kernelspec": {
   "display_name": "Python 3 (ipykernel)",
   "language": "python",
   "name": "python3"
  },
  "language_info": {
   "codemirror_mode": {
    "name": "ipython",
    "version": 3
   },
   "file_extension": ".py",
   "mimetype": "text/x-python",
   "name": "python",
   "nbconvert_exporter": "python",
   "pygments_lexer": "ipython3",
   "version": "3.11.7"
  }
 },
 "nbformat": 4,
 "nbformat_minor": 5
}
