{
 "cells": [
  {
   "cell_type": "code",
   "execution_count": 10,
   "id": "41882956-7985-44df-9cae-a00f4018631e",
   "metadata": {
    "scrolled": true
   },
   "outputs": [
    {
     "name": "stdin",
     "output_type": "stream",
     "text": [
      "please input principal:  8\n",
      "please input rate:  8\n",
      "please input period of time:  8\n"
     ]
    },
    {
     "name": "stdout",
     "output_type": "stream",
     "text": [
      "13.120000000000001\n",
      " the simple interest is <class 'float'>\n"
     ]
    }
   ],
   "source": [
    "# Python program to solve the problem of simple interest\n",
    "Principal = input(\"please input principal: \")\n",
    "Rate = input(\"please input rate: \")\n",
    "Time = input(\"please input period of time: \")\n",
    "\n",
    "P = int(Principal)\n",
    "R = int(Rate)\n",
    "T = int(Time)\n",
    "A = P * (1 + R/100 * T)\n",
    "print(A)\n",
    "print(\" the simple interest is\",type(A))\n"
   ]
  },
  {
   "cell_type": "code",
   "execution_count": 11,
   "id": "9d6e2275-9358-4562-9230-c26677ea3220",
   "metadata": {},
   "outputs": [
    {
     "name": "stdin",
     "output_type": "stream",
     "text": [
      "please input principal:  8\n",
      "please input rate:  9\n",
      "please input period of time:  6\n",
      "please input number of items:  7\n"
     ]
    },
    {
     "name": "stdout",
     "output_type": "stream",
     "text": [
      "15645.694138618135\n",
      "the compund interest is <class 'float'>\n"
     ]
    }
   ],
   "source": [
    "#python program to solve the problem of compound interest\n",
    "Principal = input(\"please input principal: \")\n",
    "Rate = input(\"please input rate: \")\n",
    "Time = input(\"please input period of periods: \")\n",
    "number_of_periods = input(\"please input number of items: \")\n",
    "\n",
    "P = int(Principal)\n",
    "R = int(Rate)\n",
    "T = int(Time)\n",
    "n = int(number_of_periods)\n",
    "\n",
    "A = P * (1 + R/n) ** n *T\n",
    "print(A)\n",
    "print(\"the compund interest is\",type(A))"
   ]
  },
  {
   "cell_type": "code",
   "execution_count": 16,
   "id": "0ef9ef43-cc24-4fa0-80ea-99c1cfd33fc2",
   "metadata": {},
   "outputs": [
    {
     "name": "stdin",
     "output_type": "stream",
     "text": [
      "please input rate:  67\n",
      "please input period of time:  78\n",
      "please input number of periods:  7\n"
     ]
    },
    {
     "name": "stdout",
     "output_type": "stream",
     "text": [
      "1150880841.039665\n",
      "the annuity plan is naira <class 'float'>\n"
     ]
    }
   ],
   "source": [
    "#python program to solve the problem of the annuity plan \n",
    "\n",
    "Rate = input(\"please input rate: \")\n",
    "Time = input(\"please input period of time: \")\n",
    "number_of_periods = input(\"please input number of periods: \")\n",
    "\n",
    "R = int(Rate)\n",
    "T = int(Time)\n",
    "n = int(number_of_periods)\n",
    "\n",
    "\n",
    "PMT = R/n\n",
    "\n",
    "A = PMT *( (((1 + R/n)** n*T ) - 1) / (R/n))\n",
    "print(A)\n",
    "print(\"the annuity plan is \",type (A))\n"
   ]
  },
  {
   "cell_type": "code",
   "execution_count": null,
   "id": "f2fbe6b3-dd8f-4e17-b878-c7b8a250695e",
   "metadata": {},
   "outputs": [],
   "source": []
  }
 ],
 "metadata": {
  "kernelspec": {
   "display_name": "Python 3 (ipykernel)",
   "language": "python",
   "name": "python3"
  },
  "language_info": {
   "codemirror_mode": {
    "name": "ipython",
    "version": 3
   },
   "file_extension": ".py",
   "mimetype": "text/x-python",
   "name": "python",
   "nbconvert_exporter": "python",
   "pygments_lexer": "ipython3",
   "version": "3.11.7"
  }
 },
 "nbformat": 4,
 "nbformat_minor": 5
}
