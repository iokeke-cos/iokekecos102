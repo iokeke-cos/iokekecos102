{
 "cells": [
  {
   "cell_type": "code",
   "execution_count": 1,
   "id": "d6c3b3f0-93ad-4b96-8b57-727f90d90cec",
   "metadata": {},
   "outputs": [
    {
     "name": "stdout",
     "output_type": "stream",
     "text": [
      "Hi my name  is Matthen. I am String\n",
      "<class 'str'>\n",
      "Hi my name is Precoius. I am also a string \n",
      "<class 'str'>\n"
     ]
    }
   ],
   "source": [
    "# pythone program to print strings and type\n",
    "str1 = \"Hi my name  is Matthen. I am String\"\n",
    "str2 = \"Hi my name is Precoius. I am also a string \"\n",
    "\n",
    "# displaying string str1 and its type\n",
    "print(str1)\n",
    "print(type(str1))\n",
    "\n",
    "# displaying string str2 and its type\n",
    "print(str2)\n",
    "print(type(str2))"
   ]
  },
  {
   "cell_type": "code",
   "execution_count": null,
   "id": "33ffe6fe-ba3b-441d-803e-d1c95ec59971",
   "metadata": {},
   "outputs": [],
   "source": []
  }
 ],
 "metadata": {
  "kernelspec": {
   "display_name": "Python 3 (ipykernel)",
   "language": "python",
   "name": "python3"
  },
  "language_info": {
   "codemirror_mode": {
    "name": "ipython",
    "version": 3
   },
   "file_extension": ".py",
   "mimetype": "text/x-python",
   "name": "python",
   "nbconvert_exporter": "python",
   "pygments_lexer": "ipython3",
   "version": "3.11.7"
  }
 },
 "nbformat": 4,
 "nbformat_minor": 5
}
