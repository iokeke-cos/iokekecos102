{
 "cells": [
  {
   "cell_type": "code",
   "execution_count": 1,
   "id": "3025065f-5544-4641-9ce6-1cabe3ebd231",
   "metadata": {},
   "outputs": [
    {
     "name": "stdout",
     "output_type": "stream",
     "text": [
      "I'm first call to user defined function!\n",
      "Again second call to the same function\n"
     ]
    }
   ],
   "source": [
    "#practice_1\n",
    "def printme(str):\n",
    "    #This is a print function\n",
    "    print(str);\n",
    "    return;\n",
    "\n",
    "printme(\"I'm first call to user defined function!\");\n",
    "printme(\"Again second call to the same function\");\n"
   ]
  },
  {
   "cell_type": "code",
   "execution_count": 4,
   "id": "ad3a5e20-ac58-43fe-a46c-76fc07338333",
   "metadata": {},
   "outputs": [
    {
     "name": "stdout",
     "output_type": "stream",
     "text": [
      "Values inside the function:  [10, 20, 30, [1, 2, 3, 4]]\n",
      "Values outside the function:  [10, 20, 30, [1, 2, 3, 4]]\n"
     ]
    }
   ],
   "source": [
    "#practice_2\n",
    "def changeme(mylist):\n",
    "    #This changes a passed list\n",
    "    mylist.append([1,2,3,4])\n",
    "    print(\"Values inside the function: \", mylist)\n",
    "    return\n",
    "\n",
    "mylist = [10,20,30]\n",
    "changeme(mylist)\n",
    "print(\"Values outside the function: \",mylist)"
   ]
  },
  {
   "cell_type": "code",
   "execution_count": 5,
   "id": "99bd0e84-8eea-4b44-a6ca-48c8de10ed38",
   "metadata": {},
   "outputs": [
    {
     "name": "stdout",
     "output_type": "stream",
     "text": [
      "Values inside the function:  [1, 2, 3, 4]\n",
      "Values outside the function:  [10, 20, 30]\n"
     ]
    }
   ],
   "source": [
    "#practice_3\n",
    "def changeme(mylist):\n",
    "    #This changes a passed list\n",
    "    mylist = ([1,2,3,4])\n",
    "    print(\"Values inside the function: \", mylist)\n",
    "    return\n",
    "\n",
    "mylist = [10,20,30]\n",
    "changeme(mylist)\n",
    "print(\"Values outside the function: \",mylist)\n"
   ]
  },
  {
   "cell_type": "code",
   "execution_count": 8,
   "id": "8b354bef-dac3-4e6d-b008-95c4ffec394c",
   "metadata": {},
   "outputs": [
    {
     "name": "stdout",
     "output_type": "stream",
     "text": [
      "<class 'str'>\n"
     ]
    }
   ],
   "source": [
    "#practice_4\n",
    "def printme( str ):\n",
    "    #This prints passed stringn\n",
    "    print (str);\n",
    "    return;\n",
    "\n",
    "printme( str );\n"
   ]
  },
  {
   "cell_type": "code",
   "execution_count": 9,
   "id": "6ce402b5-e791-4c57-a252-f10a93080708",
   "metadata": {},
   "outputs": [
    {
     "name": "stdout",
     "output_type": "stream",
     "text": [
      "My string\n"
     ]
    }
   ],
   "source": [
    "#practice_5\n",
    "def printme(str):\n",
    "    #THis prints a passed string\n",
    "    print(str);\n",
    "    return;\n",
    "\n",
    "printme(str = \"My string\");"
   ]
  },
  {
   "cell_type": "code",
   "execution_count": 10,
   "id": "6c1e08ac-d99d-4bfb-abe7-803e4dc17f91",
   "metadata": {},
   "outputs": [
    {
     "name": "stdout",
     "output_type": "stream",
     "text": [
      "Name:  miki\n",
      "Age:  50\n"
     ]
    }
   ],
   "source": [
    "#practice_6\n",
    "def printinfo(name,age):\n",
    "    #Test function\n",
    "    print(\"Name: \", name);\n",
    "    print(\"Age: \",age);\n",
    "    return;\n",
    "\n",
    "printinfo( age=50, name = \"miki\");\n",
    "\n"
   ]
  },
  {
   "cell_type": "code",
   "execution_count": 11,
   "id": "c4bf774d-d608-429d-b411-a928e14364ea",
   "metadata": {},
   "outputs": [
    {
     "name": "stdout",
     "output_type": "stream",
     "text": [
      "Name: miki\n",
      "Age:  50\n",
      "Name: miki\n",
      "Age:  35\n"
     ]
    }
   ],
   "source": [
    "#practice_7\n",
    "def printinfo(name,age =35):\n",
    "    #Test function\n",
    "    print (\"Name:\", name);\n",
    "    print(\"Age: \",age);\n",
    "    return;\n",
    "printinfo(age=50,name=\"miki\")\n",
    "printinfo(name= \"miki\");\n",
    "\n",
    "    \n",
    "    "
   ]
  },
  {
   "cell_type": "code",
   "execution_count": 12,
   "id": "fe5f243d-06ee-4993-8256-106a050f6071",
   "metadata": {},
   "outputs": [
    {
     "name": "stdout",
     "output_type": "stream",
     "text": [
      "Inside the function local total :  30\n",
      "Outside the function global total :  50\n"
     ]
    }
   ],
   "source": [
    "#practice_8\n",
    "total = 50; #This is global variable.\n",
    "def sum(arg1,arg2):\n",
    "    # Add both the parameters\n",
    "    total = arg1 + arg2;\n",
    "    print(\"Inside the function local total : \",  total)\n",
    "    return total;\n",
    "#Now you can call sum funtion\n",
    "sum(10,20);\n",
    "print(\"Outside the function global total : \",total)\n"
   ]
  },
  {
   "cell_type": "code",
   "execution_count": 14,
   "id": "2458c45c-8933-4f05-9989-0fd2d77e929b",
   "metadata": {},
   "outputs": [
    {
     "name": "stdout",
     "output_type": "stream",
     "text": [
      "Lawal Edward Tola Tina\n",
      "Mary\n"
     ]
    }
   ],
   "source": [
    "#practice_9\n",
    "def swap(x,y):\n",
    "    global a\n",
    "    a= \"Lawal\"\n",
    "    x,y = y,x\n",
    "    b= \"Chris\"\n",
    "    b= \"Edward\"\n",
    "    d= \"Lola\"\n",
    "    print(a,b,x,y)\n",
    "    a=\"Mary\"\n",
    "\n",
    "swap(\"Tina\",\"Tola\")\n",
    "print(a)"
   ]
  },
  {
   "cell_type": "code",
   "execution_count": 21,
   "id": "13d7cea4-74a0-4f72-8528-123cb4b41950",
   "metadata": {},
   "outputs": [],
   "source": [
    "#practice_10_tkinter\n",
    "import tkinter as tk\n",
    "from tkinter import messagebox\n",
    "\n",
    "#Handling button click event\n",
    "def button_click():\n",
    "    #print(\"Button clicked!\")\n",
    "\n",
    "    #Show an informationmessage box\n",
    "    messagebox.showinfo(\"Info\",\"WeLcome to COS 102 GUI App!\\n\")\n",
    "\n",
    "    #Ask for user confirmation\n",
    "    result = messagebox.askyesno(\"Confirmation\",\"Do you want to continue?\")\n",
    "\n",
    "#create the main window\n",
    "root = tk.Tk()\n",
    "root.title(\"Home Page\")\n",
    "root.geometry(\"300x100\")\n",
    "\n",
    "#Add a label widget\n",
    "label = tk.Label(root,text=\"Hello Friend\\n\")\n",
    "label.pack()\n",
    "\n",
    "#Add a button widget\n",
    "button = tk.Button(root,text=\"Click Me!\",command=button_click)\n",
    "button.pack()\n",
    "\n",
    "#styling the button widget\n",
    "button.config(fg =\"red\",bg = \"yellow\")\n",
    "\n",
    "#Start the event loop\n",
    "root.mainloop()\n",
    "\n",
    "\n"
   ]
  },
  {
   "cell_type": "code",
   "execution_count": 26,
   "id": "17d6cd85-1b13-46f2-98d1-328c48ead0f4",
   "metadata": {},
   "outputs": [
    {
     "name": "stderr",
     "output_type": "stream",
     "text": [
      "Exception in Tkinter callback\n",
      "Traceback (most recent call last):\n",
      "  File \"C:\\Users\\User\\anaconda3\\Lib\\tkinter\\__init__.py\", line 1948, in __call__\n",
      "    return self.func(*args)\n",
      "           ^^^^^^^^^^^^^^^^\n",
      "  File \"C:\\Users\\User\\AppData\\Local\\Temp\\ipykernel_18608\\2716742502.py\", line 27, in submit\n",
      "    welcomeMessage(username)\n",
      "  File \"C:\\Users\\User\\AppData\\Local\\Temp\\ipykernel_18608\\2716742502.py\", line 14, in welcomeMessage\n",
      "    label_2 = tk.Label(window,texts = \"This is Python GUI with TKinter\")\n",
      "              ^^^^^^^^^^^^^^^^^^^^^^^^^^^^^^^^^^^^^^^^^^^^^^^^^^^^^^^^^^\n",
      "  File \"C:\\Users\\User\\anaconda3\\Lib\\tkinter\\__init__.py\", line 3214, in __init__\n",
      "    Widget.__init__(self, master, 'label', cnf, kw)\n",
      "  File \"C:\\Users\\User\\anaconda3\\Lib\\tkinter\\__init__.py\", line 2628, in __init__\n",
      "    self.tk.call(\n",
      "_tkinter.TclError: unknown option \"-texts\"\n"
     ]
    }
   ],
   "source": [
    "#practice_11_tkinter_2\n",
    "import tkinter as tk\n",
    "from tkinter import messagebox\n",
    "from PIL import Image, ImageTk\n",
    "\n",
    "def welcomeMessage(username):\n",
    "    #create a TKinter window\n",
    "    window = tk.Toplevel(root)\n",
    "    window.title(\"Admin Box\")\n",
    "    window.geometry(\"500x200\")\n",
    "\n",
    "    label_1 = tk.Label(window, text = f\"Welcome (username)\\n\")\n",
    "    label_1.pack()\n",
    "    label_2 = tk.Label(window,texts = \"This is Python GUI with TKinter\")\n",
    "    label_2.pack()\n",
    "    \n",
    "    #Run the Tkinter event loop\n",
    "    root.mainloop()\n",
    "\n",
    "\n",
    "def submit():\n",
    "    username = username_entry.get()\n",
    "    password = password_entry.get()\n",
    "\n",
    "\n",
    "    if username == \"Mary\" and password == \"cos 102\":\n",
    "        welcomeMessage(username)\n",
    "\n",
    "    else:\n",
    "        messagebox.showerror(\"Login\", \"Invalid username or password\")\n",
    "\n",
    "#create main window\n",
    "root = tk.Tk()\n",
    "root.title(\"Login Form\")\n",
    "root.geometry(\"500x200\")\n",
    "\n",
    "\n",
    "#create username label and entry\n",
    "username_label = tk.Label(root,text=\"Username: \")\n",
    "username_label.pack()\n",
    "username_entry = tk.Entry(root)\n",
    "username_entry.pack()\n",
    "\n",
    "#create password label and entry\n",
    "password_label = tk.Label(root, text = \"Password:\")\n",
    "password_label.pack()\n",
    "password_entry = tk.Entry(root, show = \"*\")\n",
    "password_entry.pack()\n",
    "\n",
    "#create submit button\n",
    "submit_button = tk.Button(root,text= \"Submit\",command=submit)\n",
    "submit_button.pack()\n",
    "\n",
    "#Run the main event loop\n",
    "root.mainloop()\n",
    "\n"
   ]
  },
  {
   "cell_type": "code",
   "execution_count": null,
   "id": "ec6dc3c4-ec55-48a6-ba4a-1f2fba7cf16b",
   "metadata": {},
   "outputs": [],
   "source": []
  }
 ],
 "metadata": {
  "kernelspec": {
   "display_name": "Python 3 (ipykernel)",
   "language": "python",
   "name": "python3"
  },
  "language_info": {
   "codemirror_mode": {
    "name": "ipython",
    "version": 3
   },
   "file_extension": ".py",
   "mimetype": "text/x-python",
   "name": "python",
   "nbconvert_exporter": "python",
   "pygments_lexer": "ipython3",
   "version": "3.11.7"
  }
 },
 "nbformat": 4,
 "nbformat_minor": 5
}
