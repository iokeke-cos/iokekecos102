{
 "cells": [
  {
   "cell_type": "code",
   "execution_count": 1,
   "id": "4053c287-b5eb-4367-baf9-558d30b1d341",
   "metadata": {},
   "outputs": [
    {
     "name": "stdout",
     "output_type": "stream",
     "text": [
      "<mysql.connector.connection_cext.CMySQLConnection object at 0x000002260F1CF950>\n"
     ]
    }
   ],
   "source": [
    "import mysql.connector\n",
    "\n",
    "mydb = mysql.connector.connect(\n",
    "  host=\"localhost\",\n",
    "  user=\"root\",\n",
    "  password=\"\"\n",
    ")\n",
    "\n",
    "print(mydb)"
   ]
  },
  {
   "cell_type": "code",
   "execution_count": 3,
   "id": "8eb8078b-1308-4098-b4aa-29906d53bd36",
   "metadata": {},
   "outputs": [],
   "source": [
    "import mysql.connector\n",
    "\n",
    "mydb = mysql.connector.connect(\n",
    "  host=\"localhost\",\n",
    "  user=\"root\",\n",
    "  password=\"\"\n",
    ")\n",
    "\n",
    "mycursor = mydb.cursor()\n",
    "\n",
    "mycursor.execute(\"CREATE DATABASE mydatabase\")"
   ]
  },
  {
   "cell_type": "code",
   "execution_count": 4,
   "id": "51572b60-1a95-4752-a7ce-6786854d4879",
   "metadata": {},
   "outputs": [
    {
     "name": "stdout",
     "output_type": "stream",
     "text": [
      "('information_schema',)\n",
      "('mydatabase',)\n",
      "('mysql',)\n",
      "('performance_schema',)\n",
      "('phpmyadmin',)\n",
      "('test',)\n"
     ]
    }
   ],
   "source": [
    "import mysql.connector\n",
    "\n",
    "mydb = mysql.connector.connect(\n",
    "  host=\"localhost\",\n",
    "  user=\"root\",\n",
    "  password=\"\"\n",
    ")\n",
    "\n",
    "mycursor = mydb.cursor()\n",
    "\n",
    "mycursor.execute(\"SHOW DATABASES\")\n",
    "\n",
    "for x in mycursor:\n",
    "  print(x)"
   ]
  },
  {
   "cell_type": "code",
   "execution_count": 6,
   "id": "353d0ab6-7b30-44e9-b5e1-c435d7ccb140",
   "metadata": {},
   "outputs": [],
   "source": [
    "import mysql.connector\n",
    "\n",
    "mydb = mysql.connector.connect(\n",
    "  host=\"localhost\",\n",
    "  user=\"root\",\n",
    "  passwd=\"\",\n",
    "  database=\"mydatabase\"\n",
    ")"
   ]
  },
  {
   "cell_type": "code",
   "execution_count": 14,
   "id": "1938628a-9cdc-4700-9a77-e9e525b7a1b4",
   "metadata": {},
   "outputs": [],
   "source": [
    "import mysql.connector\n",
    "\n",
    "mydb = mysql.connector.connect(\n",
    "    host =\"localhost\",\n",
    "    user =\"root\",\n",
    "    passwd =\"\",\n",
    "    database = \"mydatabase\",\n",
    ")\n",
    "\n",
    "mycursor = mydb.cursor()\n",
    "\n",
    "mycursor.execute(\"CREATE TABLE customers (id INT AUTO_INCREMENT PRIMARY KEY, name VARCHAR(255), address VARCHAR(255))\")\n"
   ]
  },
  {
   "cell_type": "code",
   "execution_count": 1,
   "id": "cd55cbd0-4975-49f0-b25d-c2ca852196ad",
   "metadata": {},
   "outputs": [
    {
     "name": "stdout",
     "output_type": "stream",
     "text": [
      "('customers',)\n"
     ]
    }
   ],
   "source": [
    "import mysql.connector\n",
    "\n",
    "mydb = mysql.connector.connect(\n",
    "    host =\"localhost\",\n",
    "    user =\"root\",\n",
    "    passwd =\"\",\n",
    "    database = \"mydatabase\",\n",
    ")\n",
    "\n",
    "mycursor = mydb.cursor()\n",
    "\n",
    "mycursor.execute(\"SHOW TABLES \")\n",
    "\n",
    "for x in mycursor:\n",
    "    print(x)"
   ]
  },
  {
   "cell_type": "code",
   "execution_count": 2,
   "id": "732d1c9e-1153-4630-be81-7f9c09fd2fff",
   "metadata": {},
   "outputs": [],
   "source": [
    "import mysql.connector\n",
    "\n",
    "mydb = mysql.connector.connect(\n",
    "    host =\"localhost\",\n",
    "    user =\"root\",\n",
    "    passwd =\"\",\n",
    "    database = \"mydatabase\",\n",
    ")\n",
    "\n",
    "mycursor = mydb.cursor()\n",
    "mycursor.execute(\"CREATE TABLE investors (id INT AUTO_INCREMENT PRIMARY KEY, name VARCHAR(255), address VARCHAR(255) ,shares VARCHAR(200))\")"
   ]
  },
  {
   "cell_type": "code",
   "execution_count": 3,
   "id": "9a2a1c44-8381-4229-832b-9dbc988b7bd0",
   "metadata": {},
   "outputs": [
    {
     "name": "stdout",
     "output_type": "stream",
     "text": [
      "('customers',)\n",
      "('investors',)\n"
     ]
    }
   ],
   "source": [
    "import mysql.connector\n",
    "\n",
    "mydb = mysql.connector.connect(\n",
    "    host =\"localhost\",\n",
    "    user =\"root\",\n",
    "    passwd =\"\",\n",
    "    database = \"mydatabase\",\n",
    ")\n",
    "\n",
    "mycursor = mydb.cursor()\n",
    "\n",
    "mycursor.execute(\"SHOW TABLES \")\n",
    "\n",
    "for x in mycursor:\n",
    "    print(x)"
   ]
  },
  {
   "cell_type": "code",
   "execution_count": 7,
   "id": "250e95c2-429b-41eb-bcc3-e75cb0fb75a8",
   "metadata": {},
   "outputs": [],
   "source": [
    "import mysql.connector\n",
    "\n",
    "mydb = mysql.connector.connect(\n",
    "    host =\"localhost\",\n",
    "    user =\"root\",\n",
    "    passwd =\"\",\n",
    "    database = \"mydatabase\",\n",
    ")\n",
    "\n",
    "mycursor = mydb.cursor()\n",
    "mycursor.execute(\"ALTER TABLE customers ADD COLUMN age INT\")"
   ]
  },
  {
   "cell_type": "code",
   "execution_count": 10,
   "id": "bbd3c194-301d-4b5e-bfc6-d3a963f53e83",
   "metadata": {},
   "outputs": [],
   "source": [
    "import mysql.connector\n",
    "\n",
    "mydb = mysql.connector.connect(\n",
    "    host =\"localhost\",\n",
    "    user =\"root\",\n",
    "    passwd =\"\",\n",
    "    database = \"mydatabase\",\n",
    ")\n",
    "\n",
    "mycursor = mydb.cursor()\n",
    "mycursor.execute(\"ALTER TABLE investors ADD COLUMN company CHAR(200)\")"
   ]
  },
  {
   "cell_type": "code",
   "execution_count": 11,
   "id": "1ea0b93d-79d3-4c17-9e7f-68e65db13a77",
   "metadata": {},
   "outputs": [
    {
     "name": "stdout",
     "output_type": "stream",
     "text": [
      "4 record(s) inserted.\n"
     ]
    }
   ],
   "source": [
    "import mysql.connector\n",
    "mydb = mysql.connector.connect(\n",
    "  host=\"localhost\",\n",
    "  user=\"root\",\n",
    "  passwd=\"\",\n",
    "  database=\"mydatabase\"\n",
    ")\n",
    "mycursor = mydb.cursor()\n",
    "sql = \"INSERT INTO customers (name, address,age) VALUES (%s, %s,%s)\"\n",
    "val = [\n",
    "    (\"Lily\", \"California\",12),\n",
    "    (\"David\", \"San Francisco\",32),\n",
    "    (\"Micheal\", \"Las Vegas\",24),\n",
    "    (\"Sarah\", \"New York\",45)\n",
    "]\n",
    "mycursor.executemany(sql, val)\n",
    "mydb.commit()\n",
    "print(mycursor.rowcount, \"record(s) inserted.\")"
   ]
  },
  {
   "cell_type": "code",
   "execution_count": 12,
   "id": "0d7453f3-12df-4aaf-8683-d07b925b1142",
   "metadata": {},
   "outputs": [
    {
     "name": "stdout",
     "output_type": "stream",
     "text": [
      "1 record inserted, ID: 5\n"
     ]
    }
   ],
   "source": [
    "import mysql.connector\n",
    "\n",
    "mydb = mysql.connector.connect(\n",
    "  host=\"localhost\",\n",
    "  user=\"root\",\n",
    "  password=\"\",\n",
    "  database=\"mydatabase\"\n",
    ")\n",
    "\n",
    "mycursor = mydb.cursor()\n",
    "\n",
    "sql = \"INSERT INTO customers (name, address,age) VALUES (%s, %s,%s)\"\n",
    "val = (\"Michelle\", \"Blue Village\",28)\n",
    "mycursor.execute(sql, val)\n",
    "\n",
    "mydb.commit()\n",
    "\n",
    "print(\"1 record inserted, ID:\", mycursor.lastrowid)"
   ]
  },
  {
   "cell_type": "code",
   "execution_count": 13,
   "id": "caa03ee9-a4dd-491b-a1e4-9a322d77ca7c",
   "metadata": {},
   "outputs": [
    {
     "name": "stdout",
     "output_type": "stream",
     "text": [
      "(1, 'Lily', 'California', 12)\n",
      "(2, 'David', 'San Francisco', 32)\n",
      "(3, 'Micheal', 'Las Vegas', 24)\n",
      "(4, 'Sarah', 'New York', 45)\n",
      "(5, 'Michelle', 'Blue Village', 28)\n"
     ]
    }
   ],
   "source": [
    "import mysql.connector\n",
    "\n",
    "mydb = mysql.connector.connect(\n",
    "  host=\"localhost\",\n",
    "  user=\"root\",\n",
    "  password=\"\",\n",
    "  database=\"mydatabase\"\n",
    ")\n",
    "\n",
    "mycursor = mydb.cursor()\n",
    "\n",
    "mycursor.execute(\"SELECT * FROM customers\")\n",
    "\n",
    "myresult = mycursor.fetchall()\n",
    "\n",
    "for x in myresult:\n",
    "  print(x)\n"
   ]
  },
  {
   "cell_type": "code",
   "execution_count": 14,
   "id": "4227922c-6361-4726-bbe5-e8f28c883ae8",
   "metadata": {},
   "outputs": [
    {
     "name": "stdout",
     "output_type": "stream",
     "text": [
      "('Lily', 'California')\n",
      "('David', 'San Francisco')\n",
      "('Micheal', 'Las Vegas')\n",
      "('Sarah', 'New York')\n",
      "('Michelle', 'Blue Village')\n"
     ]
    }
   ],
   "source": [
    "import mysql.connector\n",
    "\n",
    "mydb = mysql.connector.connect(\n",
    "  host=\"localhost\",\n",
    "  user=\"root\",\n",
    "  password=\"\",\n",
    "  database=\"mydatabase\"\n",
    ")\n",
    "\n",
    "mycursor = mydb.cursor()\n",
    "\n",
    "mycursor.execute(\"SELECT name, address FROM customers\")\n",
    "\n",
    "myresult = mycursor.fetchall()\n",
    "\n",
    "for x in myresult:\n",
    "    print(x)"
   ]
  },
  {
   "cell_type": "code",
   "execution_count": 15,
   "id": "c0b19a12-9465-4c5d-8c36-464687c8c93b",
   "metadata": {},
   "outputs": [
    {
     "name": "stdout",
     "output_type": "stream",
     "text": [
      "1\n",
      "Lily\n",
      "California\n",
      "12\n"
     ]
    }
   ],
   "source": [
    "import mysql.connector\n",
    "\n",
    "mydb = mysql.connector.connect(\n",
    "  host=\"localhost\",\n",
    "  user=\"root\",\n",
    "  password=\"\",\n",
    "  database=\"mydatabase\"\n",
    ")\n",
    "\n",
    "mycursor = mydb.cursor()\n",
    "\n",
    "mycursor.execute(\"SELECT * FROM customers\")\n",
    "\n",
    "myresult = mycursor.fetchone()\n",
    "\n",
    "for x in myresult:\n",
    "  print(x)\n"
   ]
  },
  {
   "cell_type": "code",
   "execution_count": 17,
   "id": "359f38db-11d0-41ab-9b00-1ebec08a3e36",
   "metadata": {},
   "outputs": [
    {
     "name": "stdout",
     "output_type": "stream",
     "text": [
      "Lily\n",
      "California\n"
     ]
    }
   ],
   "source": [
    "import mysql.connector\n",
    "\n",
    "mydb = mysql.connector.connect(\n",
    "  host=\"localhost\",\n",
    "  user=\"root\",\n",
    "  password=\"\",\n",
    "  database=\"mydatabase\"\n",
    ")\n",
    "\n",
    "mycursor = mydb.cursor()\n",
    "\n",
    "mycursor.execute(\"SELECT name, address FROM customers\")\n",
    "\n",
    "myresult = mycursor.fetchone()\n",
    "\n",
    "for x in myresult:\n",
    "    print(x)"
   ]
  },
  {
   "cell_type": "code",
   "execution_count": 20,
   "id": "24dfca82-9332-4208-a60b-f15058e22583",
   "metadata": {},
   "outputs": [
    {
     "name": "stdout",
     "output_type": "stream",
     "text": [
      "(4, 'Sarah', 'New York', 45)\n"
     ]
    }
   ],
   "source": [
    "import mysql.connector\n",
    "\n",
    "mydb = mysql.connector.connect(\n",
    "  host=\"localhost\",\n",
    "  user=\"root\",\n",
    "  password=\"\",\n",
    "  database=\"mydatabase\"\n",
    ")\n",
    "\n",
    "mycursor = mydb.cursor()\n",
    "\n",
    "sql = \"SELECT * FROM customers WHERE address ='New york'\"\n",
    "\n",
    "mycursor.execute(sql)\n",
    "\n",
    "myresult = mycursor.fetchall()\n",
    "\n",
    "for x in myresult:\n",
    "  print(x)"
   ]
  },
  {
   "cell_type": "code",
   "execution_count": 21,
   "id": "f12c448e-acfd-4062-a797-d688507dd570",
   "metadata": {},
   "outputs": [
    {
     "name": "stdout",
     "output_type": "stream",
     "text": [
      "1 record inserted, ID: 6\n"
     ]
    }
   ],
   "source": [
    "import mysql.connector\n",
    "\n",
    "mydb = mysql.connector.connect(\n",
    "  host=\"localhost\",\n",
    "  user=\"root\",\n",
    "  password=\"\",\n",
    "  database=\"mydatabase\"\n",
    ")\n",
    "\n",
    "mycursor = mydb.cursor()\n",
    "\n",
    "sql = \"INSERT INTO customers (name, address,age) VALUES (%s, %s,%s)\"\n",
    "val = [(\"Michel\", \"highway\",28,),\n",
    "    ( \"bella\",\"road way\", 15),\n",
    "     (\"ella\",\"line way\",21)]\n",
    "\n",
    "\n",
    "mycursor.executemany(sql, val)\n",
    "\n",
    "mydb.commit()\n",
    "\n",
    "print(\"1 record inserted, ID:\", mycursor.lastrowid)"
   ]
  },
  {
   "cell_type": "code",
   "execution_count": 22,
   "id": "91f273cb-3a96-42cd-baca-fbf667bf213b",
   "metadata": {},
   "outputs": [
    {
     "name": "stdout",
     "output_type": "stream",
     "text": [
      "(6, 'Michel', 'highway', 28)\n",
      "(7, 'bella', 'road way', 15)\n",
      "(8, 'ella', 'line way', 21)\n"
     ]
    }
   ],
   "source": [
    "import mysql.connector\n",
    "\n",
    "mydb = mysql.connector.connect(\n",
    "  host=\"localhost\",\n",
    "  user=\"root\",\n",
    "  passwd=\"\",  \n",
    "  database=\"mydatabase\"\n",
    ")\n",
    "\n",
    "mycursor = mydb.cursor()\n",
    "\n",
    "sql = \"SELECT * FROM customers WHERE address LIKE '%way%'\"\n",
    "\n",
    "mycursor.execute(sql)\n",
    "\n",
    "myresult = mycursor.fetchall()\n",
    "\n",
    "for x in myresult:\n",
    "  print(x)"
   ]
  },
  {
   "cell_type": "code",
   "execution_count": 23,
   "id": "1d8031a0-4833-42d1-85fd-abd970161f52",
   "metadata": {},
   "outputs": [
    {
     "name": "stdout",
     "output_type": "stream",
     "text": [
      "(1, 'Lily', 'California', 12)\n",
      "(2, 'David', 'San Francisco', 32)\n",
      "(3, 'Micheal', 'Las Vegas', 24)\n",
      "(4, 'Sarah', 'New York', 45)\n",
      "(5, 'Michelle', 'Blue Village', 28)\n"
     ]
    }
   ],
   "source": [
    "import mysql.connector\n",
    "\n",
    "mydb = mysql.connector.connect(\n",
    "  host=\"localhost\",\n",
    "  user=\"root\",\n",
    "  passwd=\"\",\n",
    "  database=\"mydatabase\"\n",
    ")\n",
    "\n",
    "mycursor = mydb.cursor()\n",
    "\n",
    "mycursor.execute(\"SELECT * FROM customers LIMIT 5\")\n",
    "\n",
    "myresult = mycursor.fetchall()\n",
    "\n",
    "for x in myresult:\n",
    "  print(x)"
   ]
  },
  {
   "cell_type": "code",
   "execution_count": 24,
   "id": "571b324e-2510-4540-a989-95f1cbe0f6b6",
   "metadata": {},
   "outputs": [
    {
     "name": "stdout",
     "output_type": "stream",
     "text": [
      "(1, 'Lily', 'California', 12)\n"
     ]
    }
   ],
   "source": [
    "import mysql.connector\n",
    "mydb = mysql.connector.connect(\n",
    "  host=\"localhost\",\n",
    "  user=\"root\",\n",
    "  passwd=\"\",\n",
    "  database=\"mydatabase\"\n",
    ")\n",
    "mycursor = mydb.cursor()\n",
    "sql = \"SELECT * FROM customers WHERE address = %s\"\n",
    "adr = (\"California\", )\n",
    "mycursor.execute(sql, adr)\n",
    "myresult = mycursor.fetchall()\n",
    "for x in myresult:\n",
    "  print(x)\n"
   ]
  },
  {
   "cell_type": "code",
   "execution_count": 40,
   "id": "c86dc518-9f7b-42ca-a806-8133f54830ac",
   "metadata": {},
   "outputs": [
    {
     "name": "stdout",
     "output_type": "stream",
     "text": [
      "(4, 'Sarah', 'New York', 45)\n",
      "(5, 'Michelle', 'Blue Village', 28)\n",
      "(6, 'Michel', 'highway', 28)\n",
      "(3, 'Micheal', 'Las Vegas', 24)\n",
      "(1, 'Lily', 'California', 12)\n",
      "(8, 'ella', 'line way', 21)\n",
      "(2, 'David', 'San Francisco', 32)\n",
      "(7, 'bella', 'road way', 15)\n"
     ]
    }
   ],
   "source": [
    "import mysql.connector\n",
    "mydb = mysql.connector.connect(\n",
    "  host=\"localhost\",\n",
    "  user=\"root\",\n",
    "  passwd=\"\",\n",
    "  database=\"mydatabase\"\n",
    ")\n",
    "mycursor = mydb.cursor()\n",
    "sql = \"SELECT * FROM customers  ORDER by name DESC\"\n",
    "\n",
    "mycursor.execute(sql)\n",
    "\n",
    "myresult = mycursor.fetchall()\n",
    "\n",
    "for x in myresult:\n",
    "  print(x)"
   ]
  },
  {
   "cell_type": "code",
   "execution_count": null,
   "id": "87e7bbbc-e751-45a8-98c2-51bb791c45f9",
   "metadata": {},
   "outputs": [],
   "source": []
  },
  {
   "cell_type": "code",
   "execution_count": 55,
   "id": "a1892148-e6e3-4b49-a776-85e94dccfabd",
   "metadata": {},
   "outputs": [
    {
     "name": "stdout",
     "output_type": "stream",
     "text": [
      "<mysql.connector.connection_cext.CMySQLConnection object at 0x000001E4CB460890>\n"
     ]
    }
   ],
   "source": [
    "import mysql.connector\n",
    "\n",
    "mydb = mysql.connector.connect(\n",
    "  host=\"localhost\",\n",
    "  user=\"root\",\n",
    "  password=\"\"\n",
    ")\n",
    "\n",
    "print(mydb)"
   ]
  },
  {
   "cell_type": "code",
   "execution_count": 66,
   "id": "4cc17699-1e66-4154-a029-c4630b16bd65",
   "metadata": {},
   "outputs": [],
   "source": [
    "import mysql.connector\n",
    "\n",
    "mydb = mysql.connector.connect(\n",
    "  host=\"localhost\",\n",
    "  user=\"root\",\n",
    "  password=\"\"\n",
    ")\n",
    "\n",
    "mycursor = mydb.cursor()\n",
    "\n",
    "mycursor.execute(\"CREATE DATABASE contactbook\")"
   ]
  },
  {
   "cell_type": "code",
   "execution_count": 2,
   "id": "a50ede6a-8cd9-42cc-b836-c0127bc5c068",
   "metadata": {},
   "outputs": [],
   "source": [
    "from tkinter import *\n",
    "from tkinter import simpledialog\n",
    "import mysql.connector\n",
    "\n",
    "# Connect to MySQL\n",
    "mydb = mysql.connector.connect(\n",
    "    host=\"localhost\",\n",
    "    user=\"root\",\n",
    "    passwd=\"\",\n",
    "    database=\"contactbook\"\n",
    ")\n",
    "\n",
    "# Ensure the table exists\n",
    "mycursor = mydb.cursor()\n",
    "mycursor.execute(\"\"\"\n",
    "    CREATE TABLE IF NOT EXISTS people (\n",
    "        id INT AUTO_INCREMENT PRIMARY KEY,\n",
    "        name VARCHAR(255),\n",
    "        number VARCHAR(200),\n",
    "        address VARCHAR(255)\n",
    "    )\n",
    "\"\"\")\n",
    "\n",
    "def label(master, text=\"nothing\", x=0, y=0):\n",
    "    list_area = Label(master, text=text, bg=\"gray20\",\n",
    "                      font=(\"times new roman\", 15), fg=\"white\",\n",
    "                      pady=10)\n",
    "    list_area.place(x=x, y=y)\n",
    "\n",
    "def add(master):\n",
    "    name = simpledialog.askstring(title=\"Name of the new contact\", prompt=\"Write Name of New Contact\")\n",
    "    num = simpledialog.askstring(title=\"Number of new contact\", prompt=\"Write Number of New Contact\")\n",
    "    addr = simpledialog.askstring(title=\"Address of new contact\", prompt=\"Write Address of New Contact\")\n",
    "\n",
    "    # Add the contact directly to the database\n",
    "    sql = \"INSERT INTO people (name, number, address) VALUES (%s, %s, %s)\"\n",
    "    val = (name, num, addr)\n",
    "    mycursor.execute(sql, val)\n",
    "    mydb.commit()\n",
    "\n",
    "    label(master=master, text=f\"{name}'s contact is added to the database.\", x=10, y=410)\n",
    "\n",
    "def view(master):\n",
    "    # Fetch and display contacts from the database\n",
    "    mycursor.execute(\"SELECT name, number, address FROM people\")\n",
    "    contacts = mycursor.fetchall()\n",
    "\n",
    "    text = Text(master)\n",
    "    text.grid(row=0, column=1, padx=10, pady=10)\n",
    "    scrollbar = Scrollbar(master, command=text.yview)\n",
    "    text.config(yscrollcommand=scrollbar.set)\n",
    "    scrollbar.grid(row=0, column=2, sticky=\"ns\")\n",
    "    text.insert(END, '\\n'.join([f\"{contact[0]} - {contact[1]} - {contact[2]}\" for contact in contacts]))\n",
    "\n",
    "def search(master):\n",
    "    n = simpledialog.askstring(title=\"Type name\", prompt=\"Type name \")\n",
    "    \n",
    "    # Fetch matching contacts from the database\n",
    "    mycursor.execute(\"SELECT name, number, address FROM people WHERE name LIKE %s\", (f\"%{n}%\",))\n",
    "    contacts = mycursor.fetchall()\n",
    "\n",
    "    text = Text(master)\n",
    "    text.grid(row=0, column=1, padx=10, pady=10)\n",
    "    scrollbar = Scrollbar(master, command=text.yview)\n",
    "    text.config(yscrollcommand=scrollbar.set)\n",
    "    scrollbar.grid(row=0, column=2, sticky=\"ns\")\n",
    "    text.insert(END, '\\n'.join([f\"{contact[0]} - {contact[1]} - {contact[2]}\" for contact in contacts]) if contacts else \"No match found.\")\n",
    "\n",
    "def remove(master):\n",
    "    remove_name = simpledialog.askstring(title=\"Search a name to remove...\", prompt=\"Search a name to remove\")\n",
    "\n",
    "    # Check for matching contacts in the database\n",
    "    mycursor.execute(\"SELECT id, name, number FROM people WHERE name LIKE %s\", (f\"%{remove_name}%\",))\n",
    "    contacts = mycursor.fetchall()\n",
    "\n",
    "    if contacts:\n",
    "        contact = contacts[0]  # Get the first matching contact\n",
    "        confirm = simpledialog.askstring(title=\"Confirm Deletion\",\n",
    "                                         prompt=f\"Are you sure you want to delete {contact[1]} - {contact[2]}?\")\n",
    "        if confirm and confirm.lower() in ['yes', 'y']:\n",
    "            mycursor.execute(\"DELETE FROM people WHERE id = %s\", (contact[0],))\n",
    "            mydb.commit()\n",
    "            label(master=master, text=f'{contact[1]} has been removed.', x=10, y=410)\n",
    "        else:\n",
    "            label(master=master, text='Deletion cancelled', x=10, y=410)\n",
    "    else:\n",
    "        label(master=master, text='No such contact found', x=10, y=410)\n",
    "\n",
    "# Building tkinter GUI window\n",
    "win = Tk()\n",
    "win.title(\"Contact Book\")\n",
    "win.geometry(\"700x500+200+20\")\n",
    "win.minsize(700, 500)\n",
    "win.maxsize(800, 600)\n",
    "win.config(bg=\"gray10\")\n",
    "\n",
    "menubar = Menu(win)\n",
    "\n",
    "filemenu = Menu(menubar, tearoff=0)\n",
    "filemenu.add_command(label='View', command=lambda: view(win))\n",
    "filemenu.add_separator()\n",
    "filemenu.add_command(label='Search', command=lambda: search(win))\n",
    "filemenu.add_separator()\n",
    "filemenu.add_command(label='Exit', command=win.destroy)\n",
    "\n",
    "menubar.add_cascade(label=\"File\", menu=filemenu)\n",
    "\n",
    "editmenu = Menu(menubar, tearoff=0)\n",
    "editmenu.add_command(label=\"Add\", command=lambda: add(win))\n",
    "editmenu.add_separator()\n",
    "editmenu.add_command(label=\"Remove\", command=lambda: remove(win))\n",
    "\n",
    "menubar.add_cascade(label=\"Edit\", menu=editmenu)\n",
    "\n",
    "win.config(menu=menubar)\n",
    "\n",
    "mainloop()\n"
   ]
  },
  {
   "cell_type": "code",
   "execution_count": null,
   "id": "4e4165ee-a2e2-4248-932f-a286cbcafa46",
   "metadata": {},
   "outputs": [
    {
     "name": "stdout",
     "output_type": "stream",
     "text": [
      "1. Add contact\n",
      "2. View contact list\n",
      "3. Search for a contact\n",
      "4. Remove a contact\n"
     ]
    },
    {
     "name": "stdin",
     "output_type": "stream",
     "text": [
      "What would you like to do? (1-4): 4\n"
     ]
    },
    {
     "name": "stdout",
     "output_type": "stream",
     "text": [
      "1. Add contact\n",
      "2. View contact list\n",
      "3. Search for a contact\n",
      "4. Remove a contact\n"
     ]
    },
    {
     "name": "stdin",
     "output_type": "stream",
     "text": [
      "What would you like to do? (1-4): 3\n"
     ]
    },
    {
     "name": "stdout",
     "output_type": "stream",
     "text": [
      "1. Add contact\n",
      "2. View contact list\n",
      "3. Search for a contact\n",
      "4. Remove a contact\n"
     ]
    }
   ],
   "source": [
    "# import mysql.connector\n",
    "\n",
    "# Connect to MySQL\n",
    "mydb = mysql.connector.connect(\n",
    "    host=\"localhost\",\n",
    "    user=\"root\",\n",
    "    passwd=\"\",\n",
    "    database=\"contactbook\"\n",
    ")\n",
    "\n",
    "# Ensure the table exists\n",
    "mycursor = mydb.cursor()\n",
    "mycursor.execute(\"\"\"\n",
    "    CREATE TABLE IF NOT EXISTS people (\n",
    "        id INT AUTO_INCREMENT PRIMARY KEY,\n",
    "        name VARCHAR(255),\n",
    "        number VARCHAR(200),\n",
    "        address VARCHAR(255)\n",
    "    )\n",
    "\"\"\")\n",
    "\n",
    "\n",
    "\n",
    "def add(main):\n",
    "    name = input(\"Enter Contact's Name:\\n\")\n",
    "    num =  input(\"Enter Contact's Number:\\n\")\n",
    "    addr = input(\"Enter Contact's Address:\\n\")\n",
    "\n",
    "    # Add the contact directly to the database\n",
    "    sql = \"INSERT INTO people (name, number, address) VALUES (%s, %s, %s)\"\n",
    "    val = (name, num, addr)\n",
    "    mycursor.execute(sql, val)\n",
    "    mydb.commit()\n",
    "\n",
    "    print( f\"{name}'s contact is added to the database.\" )\n",
    "\n",
    "def view(main):\n",
    "    # Fetch and display contacts from the database\n",
    "    mycursor.execute(\"SELECT name, number, address FROM people\")\n",
    "    contacts = mycursor.fetchall()\n",
    "\n",
    "    for i in contacts:\n",
    "        print(i)\n",
    "\n",
    "def search(main):\n",
    "    n = input(\"Enter Contact's Name:\")\n",
    "    \n",
    "    # Fetch matching contacts from the database\n",
    "    mycursor.execute(\"SELECT name, number, address FROM people WHERE name LIKE %s\", (f\"%{n}%\",))\n",
    "    contacts = mycursor.fetchall()\n",
    "\n",
    "    if i in contacts:\n",
    "        print(i)\n",
    "        \n",
    "    else:\n",
    "        print(\"Contact no found.\")\n",
    "    \n",
    "   \n",
    "\n",
    "def remove(main):\n",
    "    remove_name = input(\"Which contact do you wish to remove?:\")\n",
    "\n",
    "    # Check for matching contacts in the database\n",
    "    mycursor.execute(\"SELECT id, name, number FROM people WHERE name LIKE %s\", (f\"%{remove_name}%\",))\n",
    "    contacts = mycursor.fetchall()\n",
    "\n",
    "    if contacts:\n",
    "        contact = contacts[0]  # Get the first matching contact\n",
    "        confirm =input(\"Are you sure you wish to remove this contact? (y/n):\")\n",
    "        \n",
    "        if confirm and confirm.lower() in ['yes', 'y']:\n",
    "            mycursor.execute(\"DELETE FROM people WHERE id = %s\", (contact[0],))\n",
    "            mydb.commit()\n",
    "            print(\"Contact has been removed\")\n",
    "        else:\n",
    "            print(\"Request Cancelled\")\n",
    "    else:\n",
    "        print(\"Contact not found\")\n",
    "\n",
    "\n",
    "\n",
    "\n",
    "def main():\n",
    "    print(\"1. Add contact\")\n",
    "    print(\"2. View contact list\")\n",
    "    print(\"3. Search for a contact\")\n",
    "    print(\"4. Remove a contact\")\n",
    "    input(\"What would you like to do? (1-4):\")\n",
    "\n",
    "    \n",
    "    if input == 1:\n",
    "     add(main)\n",
    "    if input == 2:\n",
    "     view()\n",
    "    if input == 3:\n",
    "     search()\n",
    "    if input == 4:\n",
    "     remove()\n",
    "    \n",
    "if __name__ =_"
   ]
  },
  {
   "cell_type": "code",
   "execution_count": null,
   "id": "5cfb2dff-3323-44ea-9d9d-ccf8a68f0026",
   "metadata": {},
   "outputs": [],
   "source": []
  },
  {
   "cell_type": "code",
   "execution_count": null,
   "id": "02239abe-e5ae-4355-99a3-8edebfa2a5b5",
   "metadata": {},
   "outputs": [],
   "source": []
  }
 ],
 "metadata": {
  "kernelspec": {
   "display_name": "Python 3 (ipykernel)",
   "language": "python",
   "name": "python3"
  },
  "language_info": {
   "codemirror_mode": {
    "name": "ipython",
    "version": 3
   },
   "file_extension": ".py",
   "mimetype": "text/x-python",
   "name": "python",
   "nbconvert_exporter": "python",
   "pygments_lexer": "ipython3",
   "version": "3.12.6"
  }
 },
 "nbformat": 4,
 "nbformat_minor": 5
}
