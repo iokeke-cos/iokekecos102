{
 "cells": [
  {
   "cell_type": "code",
   "execution_count": 15,
   "id": "6a5b83c1-4066-4d9e-9b82-99f53197e899",
   "metadata": {},
   "outputs": [],
   "source": [
    "import numpy as np\n",
    "\n",
    "a  = np.array(['Name:-','NO:-','Address:-'])\n",
    "np.save(\"Contact\",a)"
   ]
  },
  {
   "cell_type": "code",
   "execution_count": null,
   "id": "66bfe406-74f8-495c-9cf0-d9a35f7684b6",
   "metadata": {},
   "outputs": [],
   "source": []
  }
 ],
 "metadata": {
  "kernelspec": {
   "display_name": "Python 3 (ipykernel)",
   "language": "python",
   "name": "python3"
  },
  "language_info": {
   "codemirror_mode": {
    "name": "ipython",
    "version": 3
   },
   "file_extension": ".py",
   "mimetype": "text/x-python",
   "name": "python",
   "nbconvert_exporter": "python",
   "pygments_lexer": "ipython3",
   "version": "3.12.6"
  }
 },
 "nbformat": 4,
 "nbformat_minor": 5
}
