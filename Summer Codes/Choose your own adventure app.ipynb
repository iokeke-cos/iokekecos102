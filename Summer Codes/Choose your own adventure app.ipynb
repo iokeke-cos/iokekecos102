{
 "cells": [
  {
   "cell_type": "code",
   "execution_count": 1,
   "id": "bfa1b966-e226-43a6-a2f1-3798908bbb33",
   "metadata": {},
   "outputs": [
    {
     "name": "stdin",
     "output_type": "stream",
     "text": [
      "Type your name:  ijeamakw\n"
     ]
    },
    {
     "name": "stdout",
     "output_type": "stream",
     "text": [
      "Welcome ijeamakw to this adventure!\n"
     ]
    },
    {
     "name": "stdin",
     "output_type": "stream",
     "text": [
      "You are on a dirt road,it has come to an end and you can go left or right forward\n"
     ]
    },
    {
     "name": "stdout",
     "output_type": "stream",
     "text": [
      "Not a valid option. You lose.\n"
     ]
    }
   ],
   "source": [
    "name = input(\"Type your name: \")\n",
    "print(\"Welcome\", name, \"to this adventure!\")\n",
    "\n",
    "answer = input(\n",
    "    \"You are on a dirt road,it has come to an end and you can go left or right\"\n",
    ")\n",
    "if answer == \"left\":\n",
    "    pass\n",
    "\n",
    "elif answer == \"right\":\n",
    "    pass\n",
    "\n",
    "else:\n",
    "    print('Not a valid option. You lose.')\n",
    "    "
   ]
  },
  {
   "cell_type": "code",
   "execution_count": null,
   "id": "811b1e89-0251-42df-87ca-cc9aea6ac6a5",
   "metadata": {},
   "outputs": [],
   "source": []
  }
 ],
 "metadata": {
  "kernelspec": {
   "display_name": "Python 3 (ipykernel)",
   "language": "python",
   "name": "python3"
  },
  "language_info": {
   "codemirror_mode": {
    "name": "ipython",
    "version": 3
   },
   "file_extension": ".py",
   "mimetype": "text/x-python",
   "name": "python",
   "nbconvert_exporter": "python",
   "pygments_lexer": "ipython3",
   "version": "3.11.7"
  }
 },
 "nbformat": 4,
 "nbformat_minor": 5
}
