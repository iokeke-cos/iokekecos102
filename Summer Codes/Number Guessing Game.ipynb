{
 "cells": [
  {
   "cell_type": "code",
   "execution_count": 5,
   "id": "e3241597-6402-4227-a5ab-19ff447f0042",
   "metadata": {},
   "outputs": [
    {
     "name": "stdin",
     "output_type": "stream",
     "text": [
      "Type a number: 97\n"
     ]
    },
    {
     "name": "stdout",
     "output_type": "stream",
     "text": [
      "69\n"
     ]
    },
    {
     "name": "stdin",
     "output_type": "stream",
     "text": [
      "Make a guess: 69\n"
     ]
    }
   ],
   "source": [
    "import random\n",
    "\n",
    "top_of_range = input(\"Type a number:\")\n",
    "\n",
    "if top_of_range.isdigit():\n",
    "    top_of_range =  int(top_of_range)\n",
    "    if top_of_range <= 0:\n",
    "        print('Please type a number larger than 0 next time.')\n",
    "        quit()\n",
    "\n",
    "else:\n",
    "    print('Please type a number next time')\n",
    "    quit()\n",
    "\n",
    "\n",
    "random_number = random.randint(0,top_of_range)\n",
    "print(random_number)\n",
    "\n",
    "while True:\n",
    "    user_guess = input(\"Make a guess:\")\n",
    "    \n",
    "    if user_guess.isdigit():\n",
    "        user_guess =  int(user_guess)\n",
    "        break\n",
    "    else:\n",
    "        print('Please type a number next time')\n",
    "        break     "
   ]
  },
  {
   "cell_type": "code",
   "execution_count": null,
   "id": "afd6e1ee-1374-4784-912e-72e0d1631873",
   "metadata": {},
   "outputs": [],
   "source": [
    " "
   ]
  },
  {
   "cell_type": "code",
   "execution_count": null,
   "id": "b690f50f-d836-4375-b2d1-69bde715b68a",
   "metadata": {},
   "outputs": [],
   "source": []
  },
  {
   "cell_type": "code",
   "execution_count": null,
   "id": "835e8f80-8b75-4150-9b9b-933e0c2d773d",
   "metadata": {},
   "outputs": [],
   "source": []
  }
 ],
 "metadata": {
  "kernelspec": {
   "display_name": "Python 3 (ipykernel)",
   "language": "python",
   "name": "python3"
  },
  "language_info": {
   "codemirror_mode": {
    "name": "ipython",
    "version": 3
   },
   "file_extension": ".py",
   "mimetype": "text/x-python",
   "name": "python",
   "nbconvert_exporter": "python",
   "pygments_lexer": "ipython3",
   "version": "3.11.7"
  }
 },
 "nbformat": 4,
 "nbformat_minor": 5
}
