{
 "cells": [
  {
   "cell_type": "code",
   "execution_count": 2,
   "id": "e74970ba-1278-49b2-a533-ff938098b336",
   "metadata": {},
   "outputs": [
    {
     "name": "stdin",
     "output_type": "stream",
     "text": [
      "Enter your state of origin: abia\n"
     ]
    },
    {
     "name": "stdout",
     "output_type": "stream",
     "text": [
      "Your state of origin is:  abia\n",
      "The first character is:  a\n",
      "The characters starting from 3rd to 5th are:  ia\n",
      "The string starting from 3rd character is:  ia\n",
      "State of origin two times abiaabia\n"
     ]
    }
   ],
   "source": [
    "#python program for practice_1\n",
    "str = input(\"Enter your state of origin:\")\n",
    "\n",
    "print (\"Your state of origin is: \", str)\n",
    "print (\"The first character is: \", str[0])\n",
    "print (\"The characters starting from 3rd to 5th are: \",str[2:5])\n",
    "print (\"The string starting from 3rd character is: \",str[2:])\n",
    "print (\"State of origin two times\", str * 2)\n",
    "\n",
    "\n"
   ]
  },
  {
   "cell_type": "code",
   "execution_count": 4,
   "id": "4510c9d0-fe58-4869-a04e-4e8e359a3962",
   "metadata": {},
   "outputs": [
    {
     "name": "stdin",
     "output_type": "stream",
     "text": [
      "enter mass in kilograms:  45\n"
     ]
    },
    {
     "name": "stdout",
     "output_type": "stream",
     "text": [
      "The energy equivalent to 45.0 kg of mass is 4.044398304315679e+18 joules.\n"
     ]
    }
   ],
   "source": [
    "#python program for practice_2\n",
    "#input from the user\n",
    "m =float(input(\"enter mass in kilograms: \"))\n",
    "\n",
    "# constant value for the speed of light in m/s\n",
    "c = 299792458\n",
    "\n",
    "#calculating energy using Einstein's equation\n",
    "energy = m * c **2\n",
    "\n",
    "#Displaying the result\n",
    "print(f\"The energy equivalent to {m} kg of mass is {energy} joules.\")\n",
    "\n",
    "\n"
   ]
  },
  {
   "cell_type": "code",
   "execution_count": 5,
   "id": "3a1c0f55-7e3f-48b8-900e-2078bd01a585",
   "metadata": {},
   "outputs": [
    {
     "name": "stdout",
     "output_type": "stream",
     "text": [
      "['Anaconda', 786, 2.23, 'Jupyter', 70.2]\n",
      "Anaconda\n",
      "[786, 2.23]\n",
      "[2.23, 'Jupyter', 70.2]\n",
      "[321, 'Python', 321, 'Python']\n",
      "['Anaconda', 786, 2.23, 'Jupyter', 70.2, 321, 'Python']\n"
     ]
    }
   ],
   "source": [
    "#python program for practice_3\n",
    "list = ['Anaconda', 786 , 2.23 , 'Jupyter' , 70.2]\n",
    "shortlist = [321, 'Python']\n",
    "\n",
    "print(list) #prints complete list\n",
    "print(list[0]) #prints first element of the list\n",
    "print(list[1:3]) #prints elements starting from 2nd to 3rd\n",
    "print(list[2:]) #prints elements starting from the 3rd element onward\n",
    "print(shortlist * 2) #prints list twice\n",
    "print(list + shortlist) #prints concatenated lists ie merges list and shortlist\n",
    "\n"
   ]
  },
  {
   "cell_type": "code",
   "execution_count": 7,
   "id": "80b0fdd9-8300-4238-b8e4-d3099bbb5932",
   "metadata": {},
   "outputs": [
    {
     "name": "stdout",
     "output_type": "stream",
     "text": [
      "('Ekiti', 750, 'Oshogbo', 250, 'Akure', 500)\n",
      "500\n",
      "('Oshogbo', 250)\n",
      "(250, 'Akure', 500)\n",
      "('Abeokuta', 300, 'Ogbomoso', 'Abeokuta', 300, 'Ogbomoso')\n",
      "('Ekiti', 750, 'Oshogbo', 250, 'Akure', 500, 'Abeokuta', 300, 'Ogbomoso')\n"
     ]
    }
   ],
   "source": [
    "#python program for practice_4\n",
    "tuple = (\"Ekiti\", 750 , 'Oshogbo', 250 , \"Akure\", 500)\n",
    "s_tuple = (\"Abeokuta\", 300 ,\"Ogbomoso\")\n",
    "\n",
    "#prints the complete tuple\n",
    "print (tuple)\n",
    "\n",
    "#prints the last element of the tuple\n",
    "print (tuple[-1])\n",
    "\n",
    "#prints elements of the tuple starting from the 2nd till the 3rd\n",
    "print(tuple[2:4])\n",
    "\n",
    "#prints elements of the tuple starting from 3rd element\n",
    "print (tuple[3:])\n",
    "\n",
    "#prints the contents of the tuple twice\n",
    "print(s_tuple * 2)\n",
    "\n",
    "#prints concatenated tuples\n",
    "print(tuple + s_tuple)\n",
    "\n",
    "\n"
   ]
  },
  {
   "cell_type": "code",
   "execution_count": 9,
   "id": "4bf12d9c-63fb-4c45-b2be-6f52ce5c1a42",
   "metadata": {},
   "outputs": [
    {
     "name": "stdout",
     "output_type": "stream",
     "text": [
      "False\n",
      "False\n",
      "False\n",
      "False\n",
      "True\n"
     ]
    }
   ],
   "source": [
    "#python program for practice_5\n",
    "#Returns false as game_1 is not equal to game_2\n",
    "game_1 = 2\n",
    "game_2 = 4\n",
    "print(bool(game_1 == game_2))\n",
    "#OR\n",
    "print(game_1 == game_2)\n",
    "\n",
    "#Returns False as val is None\n",
    "val = None\n",
    "print(bool(val))\n",
    "\n",
    "#Returns false as num is an empty sequence\n",
    "num = ()\n",
    "print(bool(num))\n",
    "\n",
    "#Returns true as age is boolean\n",
    "age = True\n",
    "print(bool(age))\n",
    "\n",
    "\n",
    "\n",
    "\n"
   ]
  },
  {
   "cell_type": "code",
   "execution_count": 10,
   "id": "2cbfbe56-8e54-4122-9d50-278959d8912c",
   "metadata": {},
   "outputs": [
    {
     "name": "stdout",
     "output_type": "stream",
     "text": [
      "Grade = 70\n",
      "GPA = 4\n",
      "CGPA = 4\n"
     ]
    }
   ],
   "source": [
    "#python program for practice_6\n",
    "#Convert to int\n",
    "\n",
    "grade = int(70)  #grade will be 70\n",
    "gpa = int(4.9)  #gpa will be 4.9\n",
    "cgpa = int(\"4\") #cgpa will be 4\n",
    "\n",
    "print(f\"Grade = {grade}\")\n",
    "print(f\"GPA = {gpa}\")\n",
    "print(f\"CGPA = {cgpa}\")\n",
    "\n",
    "\n",
    "\n"
   ]
  },
  {
   "cell_type": "code",
   "execution_count": 12,
   "id": "145adeaa-b97e-4482-aa6a-1d99fd924542",
   "metadata": {},
   "outputs": [
    {
     "ename": "SyntaxError",
     "evalue": "unterminated string literal (detected at line 8) (3938290371.py, line 8)",
     "output_type": "error",
     "traceback": [
      "\u001b[0;36m  Cell \u001b[0;32mIn[12], line 8\u001b[0;36m\u001b[0m\n\u001b[0;31m    print(f\"GPA\u001b[0m\n\u001b[0m          ^\u001b[0m\n\u001b[0;31mSyntaxError\u001b[0m\u001b[0;31m:\u001b[0m unterminated string literal (detected at line 8)\n"
     ]
    }
   ],
   "source": [
    "#Convert to float\n",
    "\n",
    "grade = float(97)\n",
    "gpa = float(5)\n",
    "cgpa = float(\"4.7\")\n",
    "\n",
    "print(f\"Grade = {grade}\")\n",
    "print(f\"GPA = {gpa}\")\n",
    "print(f\"CGPA = {cgpa}\")\n",
    "\n"
   ]
  },
  {
   "cell_type": "code",
   "execution_count": null,
   "id": "8ba94001-e648-4e54-aae0-f9d16076fe9d",
   "metadata": {},
   "outputs": [],
   "source": [
    "0"
   ]
  }
 ],
 "metadata": {
  "kernelspec": {
   "display_name": "anaconda-panel-2023.05-py310",
   "language": "python",
   "name": "conda-env-anaconda-panel-2023.05-py310-py"
  },
  "language_info": {
   "codemirror_mode": {
    "name": "ipython",
    "version": 3
   },
   "file_extension": ".py",
   "mimetype": "text/x-python",
   "name": "python",
   "nbconvert_exporter": "python",
   "pygments_lexer": "ipython3",
   "version": "3.11.5"
  }
 },
 "nbformat": 4,
 "nbformat_minor": 5
}
