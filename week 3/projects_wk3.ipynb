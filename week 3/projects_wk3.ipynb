{
 "cells": [
  {
   "cell_type": "code",
   "execution_count": 53,
   "id": "26234d76-d540-4e82-bc91-43e181dc6315",
   "metadata": {},
   "outputs": [
    {
     "name": "stdin",
     "output_type": "stream",
     "text": [
      "Would you like to solve a quartic, cubic or quadratic equation quadratic equation\n"
     ]
    },
    {
     "name": "stdout",
     "output_type": "stream",
     "text": [
      "(a*x**2) + (b*x) + c = 0\n"
     ]
    },
    {
     "name": "stdin",
     "output_type": "stream",
     "text": [
      "input float value for a 4.0\n",
      "input float  value for b 3.4\n",
      "input float value for c 2.3\n"
     ]
    },
    {
     "name": "stdout",
     "output_type": "stream",
     "text": [
      "The roots of your equation are: [-0.85, -0.676470588235294]\n",
      "note that all the roots of a quadratic equation arre real numbers\n"
     ]
    }
   ],
   "source": [
    "#python program to calculate polynomial equations.\n",
    "user_choice = input(\"Would you like to solve a quartic, cubic or quadratic equation\")\n",
    "if user_choice == \"cubic equation\":\n",
    " cubic_equation = (\"(a*x**3) + (b*x**2) + (c*x) + d = 0\")\n",
    " print(cubic_equation)\n",
    "    \n",
    " coefficient_of_x3 =input(\"Please input float value for a\")\n",
    " coefficient_of_x2 =input(\"please input float value for b\")\n",
    " coefficient_of_x = input(\"Please input float value of c\")\n",
    " constant = input(\"please input float value for d\")\n",
    "\n",
    " a = float(coefficient_of_x3)\n",
    " b = float(coefficient_of_x2)\n",
    " c = float(coefficient_of_x)\n",
    " d = float(constant)\n",
    "\n",
    " root_1 = (-b) / (a)\n",
    " root_2 = ((-d)/ (b))** 0.5\n",
    " root_3 = (-c)/b\n",
    "\n",
    " x = [root_1,root_2,root_3]\n",
    " print(\"The roots of your equation are: \", x)\n",
    " print(\" note : one of the roots of a cubic euqation is a complex number\") \n",
    "\n",
    "if user_choice == \"quartic equation\":\n",
    "    quartic_equation = (\"(a*x**4) + (b*x**3) + (c*x**2) + (d*x) + e = 0\")\n",
    "    print(quartic_equation)\n",
    "\n",
    "    x4 =input(\"input float value for a\")\n",
    "    x3 = input(\"input float value for b\")\n",
    "    x2 = input(\"input float value for c\")\n",
    "    x = input(\"input float value for d\")\n",
    "    con = input(\"input float value for e\")\n",
    "\n",
    "    a = float(x4)\n",
    "    b = float(x3)\n",
    "    c = float(x2)\n",
    "    d = float(x)\n",
    "    e = float(con)\n",
    "\n",
    "    root_1 = ((-c)/(a))** 0.5\n",
    "    root_2 = (-c)/(b)\n",
    "    root_3 = (-c)/(d)\n",
    "    root_4 = ((-e)/(c))** 0.5\n",
    "\n",
    "    list = [root_1,root_2,root_3,root_4]\n",
    "    print(\"The roots of your equation are: \", list)\n",
    "    print(\"note that two of the roots of a quartic equation are complex numbers\")\n",
    "\n",
    "if user_choice == \"quadratic equation\":\n",
    "    quadratic_equation = (\"(a*x**2) + (b*x) + c = 0\")\n",
    "    print(quadratic_equation)\n",
    "\n",
    "    xsq = input(\"input float value for a\")\n",
    "    xnosq = input(\"input float  value for b\")\n",
    "    cons = input(\"input float value for c\")\n",
    "\n",
    "    a = float(xsq)\n",
    "    b = float(xnosq)\n",
    "    c = float(cons)\n",
    "\n",
    "    root_1 = (-b)/(a)\n",
    "    root_2 = (-c)/(b)\n",
    "\n",
    "    list_2 = [root_1,root_2]\n",
    "    print(\"The roots of your equation are:\",list_2)\n",
    "    print(\"note that all the roots of a quadratic equation are real numbers\")\n",
    "\n",
    "\n",
    "\n",
    "\n",
    "    \n",
    "\n",
    "\n",
    "\n",
    "\n",
    "\n",
    "\n",
    "\n",
    "\n"
   ]
  },
  {
   "cell_type": "code",
   "execution_count": null,
   "id": "e840a963-3c27-49dd-b771-e16710151a1f",
   "metadata": {},
   "outputs": [],
   "source": []
  },
  {
   "cell_type": "code",
   "execution_count": null,
   "id": "ceeda378-cfba-40b1-a7b3-9b6a8d2209f5",
   "metadata": {},
   "outputs": [],
   "source": []
  }
 ],
 "metadata": {
  "kernelspec": {
   "display_name": "anaconda-panel-2023.05-py310",
   "language": "python",
   "name": "conda-env-anaconda-panel-2023.05-py310-py"
  },
  "language_info": {
   "codemirror_mode": {
    "name": "ipython",
    "version": 3
   },
   "file_extension": ".py",
   "mimetype": "text/x-python",
   "name": "python",
   "nbconvert_exporter": "python",
   "pygments_lexer": "ipython3",
   "version": "3.11.5"
  }
 },
 "nbformat": 4,
 "nbformat_minor": 5
}
